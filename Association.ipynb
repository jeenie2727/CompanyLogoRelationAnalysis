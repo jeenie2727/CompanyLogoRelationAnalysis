{
  "nbformat": 4,
  "nbformat_minor": 0,
  "metadata": {
    "colab": {
      "provenance": []
    },
    "kernelspec": {
      "name": "python3",
      "display_name": "Python 3"
    },
    "language_info": {
      "name": "python"
    }
  },
  "cells": [
    {
      "cell_type": "code",
      "execution_count": null,
      "metadata": {
        "colab": {
          "base_uri": "https://localhost:8080/"
        },
        "id": "CK4wiLeNnv6N",
        "outputId": "f7da6ed1-ef7d-4e13-f639-e0a4ac939f34"
      },
      "outputs": [
        {
          "output_type": "stream",
          "name": "stdout",
          "text": [
            "Mounted at /content/drive\n"
          ]
        }
      ],
      "source": [
        "from google.colab import drive\n",
        "drive.mount('/content/drive')"
      ]
    },
    {
      "cell_type": "code",
      "source": [
        "import sqlite3\n",
        "import pandas as pd\n",
        "\n",
        "\n",
        "# company 데이터 다운로드\n",
        "company = pd.read_excel('/content/drive/Shareddrives/데이터마이닝 2023-2/datamining_dataset_final.xlsx')\n",
        "df = pd.read_excel('/content/drive/MyDrive/check.xlsx')\n",
        "\n",
        "# SQLite 데이터베이스 연결\n",
        "conn = sqlite3.connect(':memory:')  # 메모리에 데이터베이스 생성\n",
        "\n",
        "# 데이터프레임을 SQLite 테이블로 저장\n",
        "company.to_sql('company', conn, index=False)\n",
        "df.to_sql('cluster', conn, index=False)\n",
        "\n",
        "# SQL 쿼리 작성\n",
        "sql_query = \"\"\"\n",
        "  SELECT DISTINCT c.company, cl1.'check' AS cluster1, cl2.'check' AS cluster2, cl3.'check' AS cluster3, cl4.'check' AS cluster4, cl5.'check' AS cluster5\n",
        "  FROM company c\n",
        "  LEFT JOIN cluster cl1 ON c.colors1 = cl1.Colors\n",
        "  LEFT JOIN cluster cl2 ON c.colors2 = cl2.Colors\n",
        "  LEFT JOIN cluster cl3 ON c.colors3 = cl3.Colors\n",
        "  LEFT JOIN cluster cl4 ON c.colors4 = cl4.Colors\n",
        "  LEFT JOIN cluster cl5 ON c.colors5 = cl5.Colors;\n",
        "\n",
        "\"\"\"\n",
        "\n",
        "# SQL 쿼리 실행\n",
        "result= pd.read_sql_query(sql_query, conn)\n",
        "\n",
        "# 클러스터 번호를 이름으로 매핑하는 딕셔너리 생성\n",
        "cluster_mapping = {\n",
        "    0: 'Green',\n",
        "    1: 'Red',\n",
        "    2: 'White',\n",
        "    3: 'Skyblue',\n",
        "    4: 'Black',\n",
        "    5 : 'Orange',\n",
        "    6: 'Gray',\n",
        "    7: 'Blue',\n",
        "}\n",
        "\n",
        "# 각 클러스터 열에 대해 매핑 적용\n",
        "for i in range(1, 6):  # 클러스터 열은 cluster1부터 cluster5까지 있음\n",
        "    column_name = f'cluster{i}'\n",
        "    result[column_name] = result[column_name].map(cluster_mapping)\n",
        "\n",
        "# 연결 종료\n",
        "conn.close()\n",
        "\n",
        "# 결과 확인\n",
        "print(result)"
      ],
      "metadata": {
        "colab": {
          "base_uri": "https://localhost:8080/"
        },
        "id": "ty_PVlkVn21O",
        "outputId": "215116b0-38a5-4dce-f0fa-a3c0884b2458"
      },
      "execution_count": null,
      "outputs": [
        {
          "output_type": "stream",
          "name": "stdout",
          "text": [
            "                                        company cluster1 cluster2 cluster3  \\\n",
            "0                            Berkshire Hathaway     Blue      NaN      NaN   \n",
            "1                                          ICBC    Black      Red      NaN   \n",
            "2      Saudi Arabian Oil Company (Saudi Aramco)    White  Skyblue    Green   \n",
            "3                                JPMorgan Chase     Blue    White      NaN   \n",
            "4                       China Construction Bank     Blue    Black      NaN   \n",
            "...                                         ...      ...      ...      ...   \n",
            "1994                                     Aperam    Black     Gray   Orange   \n",
            "1995  Shenzhen Feima International Supply Chain    Green      Red      NaN   \n",
            "1996                                       NMDC     Blue      NaN      NaN   \n",
            "1997                 Sichuan Changhong Electric      Red      NaN      NaN   \n",
            "1998                         Satellite Chemical     Blue      Red      NaN   \n",
            "\n",
            "     cluster4 cluster5  \n",
            "0         NaN      NaN  \n",
            "1         NaN      NaN  \n",
            "2       Green      NaN  \n",
            "3         NaN      NaN  \n",
            "4         NaN      NaN  \n",
            "...       ...      ...  \n",
            "1994      Red      NaN  \n",
            "1995      NaN      NaN  \n",
            "1996      NaN      NaN  \n",
            "1997      NaN      NaN  \n",
            "1998      NaN      NaN  \n",
            "\n",
            "[1999 rows x 6 columns]\n"
          ]
        }
      ]
    },
    {
      "cell_type": "code",
      "source": [
        "result_df = pd.DataFrame(result)\n",
        "\n",
        "# 새로운 데이터 구조로 변환\n",
        "new_data = {'Company': [], 'Colors': []}\n",
        "\n",
        "for _, row in result_df.iterrows():\n",
        "    company = row['company']\n",
        "    clusters = [row[f'cluster{i}'] for i in range(1, 6) if pd.notna(row[f'cluster{i}'])]\n",
        "    new_data['Company'].append(company)\n",
        "    new_data['Colors'].append(clusters)\n",
        "\n",
        "# 새로운 데이터프레임 생성\n",
        "new_df = pd.DataFrame(new_data)\n",
        "\n",
        "classification = pd.read_excel('/content/drive/MyDrive/Forbes_2000_top_company.xlsx')\n",
        "\n",
        "new_df['Industry'] = classification['Industry']\n",
        "\n",
        "# 결과 출력\n",
        "print(new_df)\n"
      ],
      "metadata": {
        "colab": {
          "base_uri": "https://localhost:8080/"
        },
        "id": "_X34rl80n8xb",
        "outputId": "d931cc77-67b2-4dff-e778-f422b13acbd3"
      },
      "execution_count": null,
      "outputs": [
        {
          "output_type": "stream",
          "name": "stderr",
          "text": [
            "/usr/local/lib/python3.10/dist-packages/ipykernel/ipkernel.py:283: DeprecationWarning: `should_run_async` will not call `transform_cell` automatically in the future. Please pass the result to `transformed_cell` argument and any exception that happen during thetransform in `preprocessing_exc_tuple` in IPython 7.17 and above.\n",
            "  and should_run_async(code)\n"
          ]
        },
        {
          "output_type": "stream",
          "name": "stdout",
          "text": [
            "                                        Company  \\\n",
            "0                            Berkshire Hathaway   \n",
            "1                                          ICBC   \n",
            "2      Saudi Arabian Oil Company (Saudi Aramco)   \n",
            "3                                JPMorgan Chase   \n",
            "4                       China Construction Bank   \n",
            "...                                         ...   \n",
            "1994                                     Aperam   \n",
            "1995  Shenzhen Feima International Supply Chain   \n",
            "1996                                       NMDC   \n",
            "1997                 Sichuan Changhong Electric   \n",
            "1998                         Satellite Chemical   \n",
            "\n",
            "                              Colors                      Industry  \n",
            "0                             [Blue]        Diversified Financials  \n",
            "1                       [Black, Red]                       Banking  \n",
            "2     [White, Skyblue, Green, Green]          Oil & Gas Operations  \n",
            "3                      [Blue, White]        Diversified Financials  \n",
            "4                      [Blue, Black]                       Banking  \n",
            "...                              ...                           ...  \n",
            "1994      [Black, Gray, Orange, Red]                     Materials  \n",
            "1995                    [Green, Red]  Business Services & Supplies  \n",
            "1996                          [Blue]                     Materials  \n",
            "1997                           [Red]             Consumer Durables  \n",
            "1998                     [Blue, Red]                     Chemicals  \n",
            "\n",
            "[1999 rows x 3 columns]\n"
          ]
        }
      ]
    },
    {
      "cell_type": "code",
      "source": [
        "from mlxtend.preprocessing import TransactionEncoder\n",
        "from mlxtend.frequent_patterns import apriori, association_rules\n",
        "\n",
        "# 데이터프레임을 transactions로 변환\n",
        "transactions = new_df['Colors'].explode().groupby(new_df['Company']).apply(list).tolist()\n",
        "\n",
        "# TransactionEncoder를 사용하여 트랜잭션 데이터를 one-hot 인코딩\n",
        "te = TransactionEncoder()\n",
        "te_ary = te.fit(transactions).transform(transactions)\n",
        "df_encoded = pd.DataFrame(te_ary, columns=te.columns_)\n",
        "\n",
        "# Apriori 알고리즘을 사용하여 빈발 아이템셋 찾기\n",
        "frequent_itemsets = apriori(df_encoded, min_support=0.1, use_colnames=True)\n",
        "\n",
        "# 연관 규칙 생성\n",
        "rules = association_rules(frequent_itemsets, metric=\"confidence\", min_threshold=0.4)\n",
        "\n",
        "# 결과 출력\n",
        "print(rules)"
      ],
      "metadata": {
        "id": "33KvHErXn_KW",
        "outputId": "517f852d-861f-437a-abcf-782c07b311d9",
        "colab": {
          "base_uri": "https://localhost:8080/"
        }
      },
      "execution_count": null,
      "outputs": [
        {
          "output_type": "stream",
          "name": "stdout",
          "text": [
            "  antecedents consequents  antecedent support  consequent support  support  \\\n",
            "0     (Black)       (Red)            0.336168            0.384192  0.13957   \n",
            "\n",
            "   confidence      lift  leverage  conviction  zhangs_metric  \n",
            "0    0.415179  1.080654  0.010417    1.052985       0.112429  \n"
          ]
        },
        {
          "output_type": "stream",
          "name": "stderr",
          "text": [
            "/usr/local/lib/python3.10/dist-packages/ipykernel/ipkernel.py:283: DeprecationWarning: `should_run_async` will not call `transform_cell` automatically in the future. Please pass the result to `transformed_cell` argument and any exception that happen during thetransform in `preprocessing_exc_tuple` in IPython 7.17 and above.\n",
            "  and should_run_async(code)\n"
          ]
        }
      ]
    },
    {
      "cell_type": "code",
      "source": [
        "import pandas as pd\n",
        "from mlxtend.preprocessing import TransactionEncoder\n",
        "from mlxtend.frequent_patterns import apriori, association_rules\n",
        "\n",
        "# Assuming new_df is the original DataFrame with 'Industry' column\n",
        "# and 'Colors' column containing the color information\n",
        "\n",
        "# 선택하려는 분야 리스트\n",
        "selected_industries = ['Banking', 'Construction', 'Diversified Financials', 'Insurance', 'Materials', 'Oil & Gas Operations']\n",
        "\n",
        "# 필터링된 DataFrame 생성\n",
        "filtered_df = new_df[new_df['Industry'].isin(selected_industries)].copy()\n",
        "\n",
        "# 분야에 따라 그룹화하여 회사 목록을 수집\n",
        "grouped_companies = filtered_df.groupby('Industry').apply(lambda x: {'Company': x['Company'].tolist(), 'Colors': x['Colors'].tolist()}).reset_index()\n",
        "\n",
        "# 각 그룹을 따로 저장하고 연관 규칙 생성\n",
        "for index, group in grouped_companies.iterrows():\n",
        "    field = group['Industry']\n",
        "    companies = group[0]['Company']\n",
        "    colors = group[0]['Colors']\n",
        "    group_df = pd.DataFrame({'Company': companies, 'Colors': colors})\n",
        "\n",
        "    # 데이터프레임을 transactions로 변환\n",
        "    transactions = group_df['Colors'].explode().groupby(group_df['Company']).apply(list).tolist()\n",
        "\n",
        "    # TransactionEncoder를 사용하여 트랜잭션 데이터를 one-hot 인코딩\n",
        "    te = TransactionEncoder()\n",
        "    te_ary = te.fit(transactions).transform(transactions)\n",
        "    df_encoded = pd.DataFrame(te_ary, columns=te.columns_)\n",
        "\n",
        "    # Apriori 알고리즘을 사용하여 빈발 아이템셋 찾기\n",
        "    frequent_itemsets = apriori(df_encoded, min_support=0.1, use_colnames=True)\n",
        "\n",
        "    # 연관 규칙 생성\n",
        "    rules = association_rules(frequent_itemsets, metric=\"confidence\", min_threshold=0.4)\n",
        "\n",
        "    # 결과 출력\n",
        "    print(f'{field}_association_rules : ')\n",
        "    print(rules)\n",
        "    print('\\n\\n')"
      ],
      "metadata": {
        "id": "ijDimmQaoAek",
        "outputId": "ab29726b-0787-4169-9ac0-964877b0bc59",
        "colab": {
          "base_uri": "https://localhost:8080/"
        }
      },
      "execution_count": null,
      "outputs": [
        {
          "output_type": "stream",
          "name": "stderr",
          "text": [
            "/usr/local/lib/python3.10/dist-packages/ipykernel/ipkernel.py:283: DeprecationWarning: `should_run_async` will not call `transform_cell` automatically in the future. Please pass the result to `transformed_cell` argument and any exception that happen during thetransform in `preprocessing_exc_tuple` in IPython 7.17 and above.\n",
            "  and should_run_async(code)\n"
          ]
        },
        {
          "output_type": "stream",
          "name": "stdout",
          "text": [
            "Banking_association_rules : \n",
            "  antecedents consequents  antecedent support  consequent support   support  \\\n",
            "0    (Orange)     (Black)            0.280277            0.370242  0.114187   \n",
            "1       (Red)     (Black)            0.439446            0.370242  0.183391   \n",
            "2     (Black)       (Red)            0.370242            0.439446  0.183391   \n",
            "\n",
            "   confidence      lift  leverage  conviction  zhangs_metric  \n",
            "0    0.407407  1.100381  0.010417    1.062716       0.126748  \n",
            "1    0.417323  1.127162  0.020689    1.080801       0.201258  \n",
            "2    0.495327  1.127162  0.020689    1.110727       0.179142  \n",
            "\n",
            "\n",
            "\n",
            "Construction_association_rules : \n",
            "  antecedents consequents  antecedent support  consequent support  support  \\\n",
            "0       (Red)     (Black)            0.472441            0.377953  0.23622   \n",
            "1     (Black)       (Red)            0.377953            0.472441  0.23622   \n",
            "\n",
            "   confidence      lift  leverage  conviction  zhangs_metric  \n",
            "0       0.500  1.322917   0.05766    1.244094       0.462687  \n",
            "1       0.625  1.322917   0.05766    1.406824       0.392405  \n",
            "\n",
            "\n",
            "\n",
            "Diversified Financials_association_rules : \n",
            "  antecedents consequents  antecedent support  consequent support   support  \\\n",
            "0       (Red)     (Black)             0.30137            0.369863  0.123288   \n",
            "\n",
            "   confidence      lift  leverage  conviction  zhangs_metric  \n",
            "0    0.409091  1.106061  0.011822    1.066386       0.137255  \n",
            "\n",
            "\n",
            "\n",
            "Insurance_association_rules : \n",
            "  antecedents consequents  antecedent support  consequent support   support  \\\n",
            "0       (Red)     (Black)            0.342857            0.323810  0.142857   \n",
            "1     (Black)       (Red)            0.323810            0.342857  0.142857   \n",
            "\n",
            "   confidence      lift  leverage  conviction  zhangs_metric  \n",
            "0    0.416667  1.286765  0.031837    1.159184       0.339130  \n",
            "1    0.441176  1.286765  0.031837    1.175940       0.329577  \n",
            "\n",
            "\n",
            "\n",
            "Materials_association_rules : \n",
            "  antecedents consequents  antecedent support  consequent support   support  \\\n",
            "0       (Red)     (Black)            0.299145            0.350427  0.136752   \n",
            "\n",
            "   confidence     lift  leverage  conviction  zhangs_metric  \n",
            "0    0.457143  1.30453  0.031923    1.196581       0.333079  \n",
            "\n",
            "\n",
            "\n",
            "Oil & Gas Operations_association_rules : \n",
            "  antecedents consequents  antecedent support  consequent support   support  \\\n",
            "0     (Black)       (Red)            0.320755            0.481132  0.169811   \n",
            "1      (Blue)       (Red)            0.367925            0.481132  0.150943   \n",
            "2   (Skyblue)      (Blue)            0.283019            0.367925  0.122642   \n",
            "\n",
            "   confidence      lift  leverage  conviction  zhangs_metric  \n",
            "0    0.529412  1.100346  0.015486    1.102594       0.134259  \n",
            "1    0.410256  0.852690 -0.026077    0.879820      -0.214652  \n",
            "2    0.433333  1.177778  0.018512    1.115427       0.210526  \n",
            "\n",
            "\n",
            "\n"
          ]
        }
      ]
    },
    {
      "cell_type": "code",
      "source": [
        "import pandas as pd\n",
        "import seaborn as sns\n",
        "import matplotlib.pyplot as plt\n",
        "\n",
        "# Define a function to parse the color strings into RGB tuples\n",
        "def parse_color(color_str):\n",
        "    # Strip the brackets and split the string by space, then create a tuple of floats\n",
        "    return tuple(map(float, color_str.strip('[]').split()))\n",
        "\n",
        "# Load your data\n",
        "df = pd.read_excel('/content/drive/Shareddrives/데이터마이닝 2023-2/김수현/8_clustering_data.xlsx', engine='openpyxl')\n",
        "# Convert the color columns\n",
        "for col in ['colors1', 'colors2', 'colors3', 'colors4', 'colors5']:\n",
        "    df[col] = df[col].dropna().apply(parse_color)\n",
        "\n",
        "# Convert the lists in the 'color' column to tuples\n",
        "df_melted['color'] = df_melted['color'].apply(lambda x: tuple(x) if isinstance(x, list) else x)\n",
        "\n",
        "# Now calculate the color frequency for each industry\n",
        "color_counts = df_melted.groupby(['Industry', 'color']).size().reset_index(name='count')\n",
        "\n",
        "# Then find the top 3 colors for each industry\n",
        "top_colors = color_counts.groupby('Industry').apply(lambda x: x.nlargest(3, 'count')).reset_index(drop=True)\n",
        "\n",
        "\n",
        "# Select industries of interest\n",
        "selected_industries = ['Banking', 'Construction', 'Diversified Financials', 'Insurance', 'Materials', 'Oil & Gas Operations']\n",
        "\n",
        "# Filter the top colors for the selected industries\n",
        "top_colors_filtered = top_colors[top_colors['Industry'].isin(selected_industries)]\n",
        "\n",
        "# Create a palette that maps color tuples to their corresponding RGB values divided by 255\n",
        "palette = {color: tuple(component/255 for component in color) for color in top_colors['color'].unique()}\n",
        "\n",
        "# Plotting the bar graph with black borders\n",
        "plt.figure(figsize=(15, 10))\n",
        "for _, row in top_colors_filtered.iterrows():\n",
        "    plt.bar(row['Industry'], row['count'], color=palette[row['color']], edgecolor='black')\n",
        "\n",
        "plt.xticks(rotation=90)\n",
        "plt.title('Top 3 Colors Frequency in Selected Industries')\n",
        "plt.show()"
      ],
      "metadata": {
        "colab": {
          "base_uri": "https://localhost:8080/",
          "height": 985
        },
        "id": "VgkcEjujA8su",
        "outputId": "2436740c-4336-48f3-8d56-4f19acc81261"
      },
      "execution_count": null,
      "outputs": [
        {
          "output_type": "display_data",
          "data": {
            "text/plain": [
              "<Figure size 1500x1000 with 1 Axes>"
            ],
            "image/png": "[encoded data removed]"
          },
          "metadata": {}
        }
      ]
    }
  ]
}